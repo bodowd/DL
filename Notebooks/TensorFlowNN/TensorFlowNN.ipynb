{
 "cells": [
  {
   "cell_type": "markdown",
   "metadata": {},
   "source": [
    "Here is a TensorFlow model to recognize hand signs.\n",
    "\n",
    "The model will be:\n",
    "\n",
    "LINEAR -> RELU -> LINEAR -> RELU -> LINEAR -> SOFTMAX\n",
    "\n",
    "There are 6 classes to classify so I use a softmax layer in the output layer."
   ]
  },
  {
   "cell_type": "code",
   "execution_count": 1,
   "metadata": {},
   "outputs": [],
   "source": [
    "import math\n",
    "import numpy as np\n",
    "import h5py\n",
    "import matplotlib.pyplot as plt\n",
    "import tensorflow as tf\n",
    "from tensorflow.python.framework import ops\n",
    "from tf_utils import load_dataset, random_mini_batches, convert_to_one_hot, predict\n",
    "%matplotlib inline\n",
    "np.random.seed(1)"
   ]
  },
  {
   "cell_type": "code",
   "execution_count": 2,
   "metadata": {},
   "outputs": [
    {
     "name": "stdout",
     "output_type": "stream",
     "text": [
      "y = 5\n"
     ]
    },
    {
     "data": {
      "image/png": "[encoded data removed]",
      "text/plain": [
       "<matplotlib.figure.Figure at 0x10ee679e8>"
      ]
     },
     "metadata": {},
     "output_type": "display_data"
    }
   ],
   "source": [
    "# Loading the dataset\n",
    "X_train_orig, Y_train_orig, X_test_orig, Y_test_orig, classes = load_dataset()\n",
    "# Example of a picture\n",
    "index = 0\n",
    "plt.imshow(X_train_orig[index])\n",
    "print (\"y = \" + str(np.squeeze(Y_train_orig[:, index])))"
   ]
  },
  {
   "cell_type": "markdown",
   "metadata": {},
   "source": [
    "Each image is 64 x 64 pixels and 3 colors (RGB). So the flattened image will be from 64x64x3 = 12288 and there are 1080 examples so the X_train shape will be (12288,1080)\n",
    "\n",
    "There are 6 numbers that are in the data set: 0,1,2,3,4,5. So, Y_train shape should be (6, 1080) 6 classes and 1080 examples."
   ]
  },
  {
   "cell_type": "code",
   "execution_count": 3,
   "metadata": {},
   "outputs": [
    {
     "name": "stdout",
     "output_type": "stream",
     "text": [
      "number of training examples = 1080\n",
      "number of test examples = 120\n",
      "X_train shape: (12288, 1080)\n",
      "Y_train shape: (6, 1080)\n",
      "X_test shape: (12288, 120)\n",
      "Y_test shape: (6, 120)\n"
     ]
    }
   ],
   "source": [
    "# Flatten the training and test images\n",
    "X_train_flatten = X_train_orig.reshape(X_train_orig.shape[0], -1).T\n",
    "X_test_flatten = X_test_orig.reshape(X_test_orig.shape[0], -1).T\n",
    "# Normalize image vectors\n",
    "X_train = X_train_flatten/255.\n",
    "X_test = X_test_flatten/255.\n",
    "# Convert training and test labels to one hot matrices\n",
    "Y_train = convert_to_one_hot(Y_train_orig, 6)\n",
    "Y_test = convert_to_one_hot(Y_test_orig, 6)\n",
    "\n",
    "print (\"number of training examples = \" + str(X_train.shape[1]))\n",
    "print (\"number of test examples = \" + str(X_test.shape[1]))\n",
    "print (\"X_train shape: \" + str(X_train.shape))\n",
    "print (\"Y_train shape: \" + str(Y_train.shape))\n",
    "print (\"X_test shape: \" + str(X_test.shape))\n",
    "print (\"Y_test shape: \" + str(Y_test.shape))"
   ]
  },
  {
   "cell_type": "code",
   "execution_count": 16,
   "metadata": {
    "collapsed": true
   },
   "outputs": [],
   "source": [
    "def create_placeholders(n_x, n_y):\n",
    "    \"\"\"\n",
    "    Creates placeholders for the tensorflow session.\n",
    "    \n",
    "    Arguments:\n",
    "    n_x -- scalar, size of an image vector (num_px * num_px * RGB = 64 *64 *3 = 12288) \n",
    "    n_y -- scalar, number of classes\n",
    "   \n",
    "    Returns:\n",
    "    X -- placeholder for the data input of shape [n_x, None] and dtype float32\n",
    "    Y -- placeholder for the input labels of shape [n_y, None] and dtype float32\n",
    "    \n",
    "    Use None so that it is flexible on the number of examples in the placeholders\n",
    "    which is needed because number of examples in test/train are different\n",
    "    \"\"\"\n",
    "    \n",
    "    X = tf.placeholder(tf.float32, shape = [n_x, None], name = 'X')\n",
    "    Y = tf.placeholder(tf.float32, shape = [n_y, None], name = 'Y')\n",
    "    \n",
    "    return X, Y\n",
    "\n",
    "def initialize_parameters():\n",
    "    \"\"\"\n",
    "    Initializes parameters to build neural network \n",
    "        W1 : [25, 12288] -- 25 units in layer 1\n",
    "        b1 : [25, 1]\n",
    "        W2 : [12, 25] -- 12 units in layer 2\n",
    "        b2 : [12, 1]\n",
    "        W3 : [6, 12] -- 6 units in layer 3\n",
    "        b3 : [6, 1]\n",
    "        \n",
    "    Returns: \n",
    "    parameters -- a dictionary of tensors\n",
    "    \"\"\"\n",
    "    \n",
    "    tf.set_random_seed (1)\n",
    "    \n",
    "    # use Xavier initializer for weights\n",
    "    W1 = tf.get_variable('W1', [25,12288], initializer=tf.contrib.layers.xavier_initializer(seed =1))\n",
    "    # initialize biases with zeros\n",
    "    b1 = tf.get_variable('b1', [25,1], initializer=tf.zeros_initializer())\n",
    "    W2 = tf.get_variable('W2', [12,25], initializer=tf.contrib.layers.xavier_initializer(seed =1))\n",
    "    b2 = tf.get_variable('b2', [12,1], initializer=tf.zeros_initializer())\n",
    "    W3 = tf.get_variable('W3', [6,12], initializer=tf.contrib.layers.xavier_initializer(seed =1))\n",
    "    b3 = tf.get_variable('b3', [6,1], initializer=tf.zeros_initializer())\n",
    "    \n",
    "    parameters = {'W1': W1,\n",
    "                  'b1': b1,\n",
    "                  'W2': W2,\n",
    "                  'b2': b2,\n",
    "                  'W3': W3,\n",
    "                  'b3': b3\n",
    "                 }\n",
    "    \n",
    "    return parameters\n",
    "\n",
    "def forward_propagation(X, parameters):\n",
    "    \"\"\"\n",
    "    Implements forward prop for model\n",
    "    \n",
    "    Arguments:\n",
    "    X -- input dataset placeholder, of shape (input size, number of examples)\n",
    "    parameters -- dictionary containing parameters from initialize_parameters\n",
    "\n",
    "    Returns:\n",
    "    Z3 -- the output of the last LINEAR unit\n",
    "    \"\"\"\n",
    "    \n",
    "    W1 = parameters['W1']\n",
    "    b1 = parameters['b1']\n",
    "    W2 = parameters['W2']\n",
    "    b2 = parameters['b2']\n",
    "    W3 = parameters['W3']\n",
    "    b3 = parameters['b3']\n",
    "    \n",
    "    # Z1 = W1*X + b1\n",
    "    Z1 = tf.add(tf.matmul(W1,X),b1)\n",
    "    # ReLU activation \n",
    "    A1 = tf.nn.relu(Z1)        \n",
    "    # Z2 = W2*A1 + b2\n",
    "    Z2 = tf.add(tf.matmul(W2, A1),b2)\n",
    "    A2 = tf.nn.relu(Z2)              \n",
    "    # Z3 = W3*A2 + b3\n",
    "    Z3 = tf.add(tf.matmul(W3,A2),b3) \n",
    "    \n",
    "    return Z3\n",
    "\n",
    "def compute_cost(Z3, Y):\n",
    "    \"\"\"\n",
    "    Computes the softmax cross entropy cost\n",
    "    \n",
    "    Arguments:\n",
    "    Z3 -- output of forward prop (output of the last LINEAR unit), shape: (6, number of examples)\n",
    "    Y -- \"true\" label vector placeholder, same shape as Z3\n",
    "    \n",
    "    Returns:\n",
    "    cost -- Tensor of the cost function\n",
    "    \"\"\"\n",
    "    \n",
    "    # need to transpose Z3 and Y to fit tf.nn.softmax_cross_entropy_with_logits\n",
    "    logits = tf.transpose(Z3)\n",
    "    labels = tf.transpose(Y)\n",
    "    \n",
    "    # tf.reduce_mean sums over the examples\n",
    "    cost = tf.reduce_mean(tf.nn.softmax_cross_entropy_with_logits(logits = logits, labels = labels))\n",
    "    \n",
    "    return cost\n",
    "\n",
    "def model(X_train, Y_train, X_test, Y_test, learning_rate = 0.0001,\n",
    "         num_epochs = 1500, minibatch_size = 32, print_cost = True):\n",
    "    \"\"\"\n",
    "    Wraps above functions. \n",
    "    Implements a three-layer tensorflow neural network: LINEAR->RELU->LINEAR->RELU->LINEAR->SOFTMAX.\n",
    "    Uses Adam optimizer for backprop\n",
    "    \n",
    "    Arguments:\n",
    "    X_train -- training set, of shape (input size = 12288, number of training examples = 1080)\n",
    "    Y_train -- test set, of shape (output size = 6, number of training examples = 1080)\n",
    "    X_test -- training set, of shape (input size = 12288, number of training examples = 120)\n",
    "    Y_test -- test set, of shape (output size = 6, number of test examples = 120)\n",
    "    learning_rate -- learning rate of the optimization\n",
    "    num_epochs -- number of epochs of the optimization loop\n",
    "    minibatch_size -- size of a minibatch\n",
    "    print_cost -- True to print the cost every 100 epochs\n",
    "    \n",
    "    Returns:\n",
    "    parameters -- parameters learned by the model. They can then be used to predict.\n",
    "    \"\"\"\n",
    "    \n",
    "    ops.reset_default_graph() # to rerun the model without overwriting tf variables\n",
    "    tf.set_random_seed(1)\n",
    "    seed = 3\n",
    "    (n_x, m) = X_train.shape # store the output of X_train.shape with n_x being num_pixels * num_pixels * 3\n",
    "    n_y = Y_train.shape[0] # output size. 6 classes\n",
    "    costs = [] # to record the cost\n",
    "    \n",
    "    \n",
    "    # Adding functions to tensorflow computation graph...\n",
    "    # create placeholders of shape (n_x, n_y)\n",
    "    X, Y = create_placeholders(n_x, n_y)\n",
    "    \n",
    "    # initialize parameters\n",
    "    parameters = initialize_parameters()\n",
    "    \n",
    "    # Forward prop\n",
    "    Z3 = forward_propagation(X, parameters)\n",
    "        \n",
    "    # Cost function\n",
    "    cost = compute_cost(Z3, Y)\n",
    "    \n",
    "    # Backprop. Taken care of tensorflow optimizer.\n",
    "    optimizer = tf.train.GradientDescentOptimizer(learning_rate = learning_rate).minimize(cost)\n",
    "    \n",
    "    # initialize all the variables\n",
    "    init = tf.global_variables_initializer()\n",
    "    \n",
    "    # start session and compute the tensorflow graph\n",
    "    with tf.Session() as sess:\n",
    "        \n",
    "        # run initialization\n",
    "        sess.run(init)\n",
    "        \n",
    "        # training loop\n",
    "        for epoch in range(num_epochs):\n",
    "            \n",
    "            epoch_cost = 0.\n",
    "            num_minibatches = int(m / minibatch_size) # number of minibatches in the train set\n",
    "            seed = seed + 1 # randomize mini batches\n",
    "            minibatches = random_mini_batches(X_train, Y_train, minibatch_size, seed) # create minibatches\n",
    "            \n",
    "            for minibatch in minibatches:\n",
    "                \n",
    "                # select a minibatch\n",
    "                (minibatch_X, minibatch_Y) = minibatch\n",
    "                # run the session to execute optimizer and the cost\n",
    "                _ , minibatch_cost = sess.run([optimizer, cost], feed_dict = {X:minibatch_X, Y:minibatch_Y})\n",
    "                \n",
    "                epoch_cost += minibatch_cost / num_minibatches\n",
    "            \n",
    "            # print epoch cost every 100 epochs\n",
    "            if print_cost == True and epoch % 100 == 0:\n",
    "                print('Cost after epoch {}: {}'.format(epoch, epoch_cost))\n",
    "            # store epoch costs every 5 epochs\n",
    "            if print_cost == True and epoch % 5 == 0:\n",
    "                costs.append(epoch_cost)\n",
    "        \n",
    "        # plot the cost\n",
    "        plt.plot(np.squeeze(costs))\n",
    "        plt.ylabel('cost')\n",
    "        plt.xlabel('iterations (per tens)')\n",
    "        plt.title(\"Learning rate =\" + str(learning_rate))\n",
    "        plt.show()\n",
    "    \n",
    "        # save parameters\n",
    "        parameters = sess.run(parameters)\n",
    "        print(\"Parameters trained\")\n",
    "        \n",
    "        # metrics ...\n",
    "        \n",
    "        # calculate correct predictions \n",
    "        correct_prediction = tf.equal(tf.argmax(Z3), tf.argmax(Y))\n",
    "        \n",
    "        # calculate accuracy on test set\n",
    "        accuracy = tf.reduce_mean(tf.cast(correct_prediction, \"float\"))\n",
    "        \n",
    "        print('Train Accuracy:', accuracy.eval({X:X_train, Y:Y_train}))\n",
    "        print('Test Accuracy:', accuracy.eval({X:X_test, Y:Y_test}))\n",
    "        \n",
    "        return parameters"
   ]
  },
  {
   "cell_type": "code",
   "execution_count": 17,
   "metadata": {},
   "outputs": [
    {
     "name": "stdout",
     "output_type": "stream",
     "text": [
      "Cost after epoch 0: 1.8555827213056157\n",
      "Cost after epoch 100: 1.646988651969216\n",
      "Cost after epoch 200: 1.5270396037535232\n",
      "Cost after epoch 300: 1.4373803680593316\n",
      "Cost after epoch 400: 1.3555000370199033\n",
      "Cost after epoch 500: 1.2805933518843218\n",
      "Cost after epoch 600: 1.2131149768829343\n",
      "Cost after epoch 700: 1.1523417378916887\n",
      "Cost after epoch 800: 1.0944697604034888\n",
      "Cost after epoch 900: 1.0442853515798396\n",
      "Cost after epoch 1000: 0.992680022210786\n",
      "Cost after epoch 1100: 0.9423780043919879\n",
      "Cost after epoch 1200: 0.8994591073556378\n",
      "Cost after epoch 1300: 0.8559112892006382\n",
      "Cost after epoch 1400: 0.8128173495783948\n"
     ]
    },
    {
     "data": {
      "image/png": "[encoded data removed]",
      "text/plain": [
       "<matplotlib.figure.Figure at 0x10ad51cc0>"
      ]
     },
     "metadata": {},
     "output_type": "display_data"
    },
    {
     "name": "stdout",
     "output_type": "stream",
     "text": [
      "Parameters trained\n",
      "Train Accuracy: 0.788889\n",
      "Test Accuracy: 0.691667\n"
     ]
    }
   ],
   "source": [
    "# with Gradient Descent\n",
    "parameters = model(X_train, Y_train, X_test, Y_test)"
   ]
  },
  {
   "cell_type": "code",
   "execution_count": 15,
   "metadata": {
    "scrolled": true
   },
   "outputs": [
    {
     "name": "stdout",
     "output_type": "stream",
     "text": [
      "Cost after epoch 0: 1.8557019089207507\n",
      "Cost after epoch 100: 1.01645776719758\n",
      "Cost after epoch 200: 0.7331024751518711\n",
      "Cost after epoch 300: 0.5729153038877428\n",
      "Cost after epoch 400: 0.46868511266780605\n",
      "Cost after epoch 500: 0.3810680504098084\n",
      "Cost after epoch 600: 0.31380907152638293\n",
      "Cost after epoch 700: 0.2541457947456476\n",
      "Cost after epoch 800: 0.203801451758905\n",
      "Cost after epoch 900: 0.16639340488296567\n",
      "Cost after epoch 1000: 0.1411411744175535\n",
      "Cost after epoch 1100: 0.10771775256955264\n",
      "Cost after epoch 1200: 0.08626101741736586\n",
      "Cost after epoch 1300: 0.06092442064122719\n",
      "Cost after epoch 1400: 0.05092670847520684\n"
     ]
    },
    {
     "data": {
      "image/png": "[encoded data removed]",
      "text/plain": [
       "<matplotlib.figure.Figure at 0x125962438>"
      ]
     },
     "metadata": {},
     "output_type": "display_data"
    },
    {
     "name": "stdout",
     "output_type": "stream",
     "text": [
      "Parameters trained\n",
      "Train Accuracy: 0.999074\n",
      "Test Accuracy: 0.725\n"
     ]
    }
   ],
   "source": [
    "# with AdamOptimizer\n",
    "parameters = model(X_train, Y_train, X_test, Y_test)"
   ]
  },
  {
   "cell_type": "markdown",
   "metadata": {},
   "source": [
    "Adam optimizer learns faster. But it's overfit. Can try regularzation techniques. L2 regularization or drop out."
   ]
  },
  {
   "cell_type": "code",
   "execution_count": null,
   "metadata": {
    "collapsed": true
   },
   "outputs": [],
   "source": []
  }
 ],
 "metadata": {
  "anaconda-cloud": {},
  "kernelspec": {
   "display_name": "Python [DeepLearning]",
   "language": "python",
   "name": "Python [DeepLearning]"
  },
  "language_info": {
   "codemirror_mode": {
    "name": "ipython",
    "version": 3
   },
   "file_extension": ".py",
   "mimetype": "text/x-python",
   "name": "python",
   "nbconvert_exporter": "python",
   "pygments_lexer": "ipython3",
   "version": "3.6.1"
  }
 },
 "nbformat": 4,
 "nbformat_minor": 1
}
